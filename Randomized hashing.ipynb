{
 "cells": [
  {
   "cell_type": "markdown",
   "metadata": {},
   "source": [
    "# count min sketch source :\n",
    "https://github.com/rafacarrascosa/countminsketch"
   ]
  },
  {
   "cell_type": "code",
   "execution_count": 36,
   "metadata": {},
   "outputs": [
    {
     "name": "stdout",
     "output_type": "stream",
     "text": [
      "Requirement already satisfied: countminsketch in /home/rajatsaini/.local/lib/python2.7/site-packages\n"
     ]
    },
    {
     "data": {
      "text/plain": [
       "0"
      ]
     },
     "execution_count": 36,
     "metadata": {},
     "output_type": "execute_result"
    }
   ],
   "source": [
    "import pip\n",
    "pip.main(['install', \"countminsketch\"])"
   ]
  },
  {
   "cell_type": "code",
   "execution_count": 37,
   "metadata": {
    "collapsed": true
   },
   "outputs": [],
   "source": [
    "from countminsketch import CountMinSketch\n",
    "import pandas as pd\n",
    "import os\n",
    "import sys\n",
    "import matplotlib.pyplot as plt\n",
    "import numpy as np\n",
    "import math"
   ]
  },
  {
   "cell_type": "markdown",
   "metadata": {},
   "source": [
    "w =  number of hash functions used\n",
    "p = number of elements in hash table"
   ]
  },
  {
   "cell_type": "code",
   "execution_count": 38,
   "metadata": {
    "collapsed": true
   },
   "outputs": [],
   "source": [
    "np.random.seed(10)\n",
    "p= 10000\n",
    "w = 4"
   ]
  },
  {
   "cell_type": "code",
   "execution_count": 39,
   "metadata": {
    "collapsed": true
   },
   "outputs": [],
   "source": [
    "waveform_data = pd.read_csv(\"sanitized_waveform.data\",header = None)"
   ]
  },
  {
   "cell_type": "markdown",
   "metadata": {},
   "source": [
    "Count Min Sketch Data Structure"
   ]
  },
  {
   "cell_type": "code",
   "execution_count": 40,
   "metadata": {
    "collapsed": true
   },
   "outputs": [],
   "source": [
    "cm_sketch = CountMinSketch(p,w)"
   ]
  },
  {
   "cell_type": "markdown",
   "metadata": {},
   "source": [
    "s = 1000 sample points <br>\n",
    "f = locality parameter"
   ]
  },
  {
   "cell_type": "code",
   "execution_count": 41,
   "metadata": {},
   "outputs": [
    {
     "name": "stdout",
     "output_type": "stream",
     "text": [
      "0.422269993919\n"
     ]
    }
   ],
   "source": [
    "seed_np = np.random.seed(1)\n",
    "s = 1000.0                                                      #sample size\n",
    "sqrt_s = np.sqrt(s)\n",
    "\n",
    "f = np.random.uniform(1.0/sqrt_s,1.0 - (1.0/sqrt_s))            #locality parameter\n",
    "print(f)"
   ]
  },
  {
   "cell_type": "markdown",
   "metadata": {},
   "source": [
    "random vector of d dimensions dran uniformly at random from (0,f)"
   ]
  },
  {
   "cell_type": "code",
   "execution_count": 42,
   "metadata": {},
   "outputs": [
    {
     "name": "stdout",
     "output_type": "stream",
     "text": [
      "[  3.04171419e-01   4.82970534e-05   1.27665974e-01   6.19706091e-02\n",
      "   3.89918179e-02   7.86520983e-02   1.45919926e-01   1.67542999e-01\n",
      "   2.27526139e-01   1.77013265e-01   2.89347634e-01   8.63340503e-02\n",
      "   3.70802645e-01   1.15649588e-02   2.83118311e-01   1.76215296e-01\n",
      "   2.35917950e-01   5.92811917e-02   8.36523146e-02   3.38130404e-01\n",
      "   4.08867810e-01]\n"
     ]
    }
   ],
   "source": [
    "d = waveform_data.shape[1]                                         #dimension of the dataset\n",
    "random_vector = np.random.uniform(0,f,d-1)\n",
    "print(random_vector)"
   ]
  },
  {
   "cell_type": "markdown",
   "metadata": {},
   "source": [
    "__waveform_randomnly = data sample of r dimensions__  "
   ]
  },
  {
   "cell_type": "code",
   "execution_count": 43,
   "metadata": {},
   "outputs": [
    {
     "name": "stdout",
     "output_type": "stream",
     "text": [
      "21\n",
      "     7     9     10    20    13    8 \n",
      "0  1.56  2.53  5.44 -0.33  2.22  4.33\n",
      "1  4.77  5.14  3.19 -1.18  2.28  5.15\n",
      "2 -0.35  2.71 -0.99  0.26  4.92  0.06\n",
      "3  5.26  5.30  4.15 -1.09  1.99  2.19\n",
      "4 -0.10  4.20  2.40  1.80  4.64  3.50\n"
     ]
    }
   ],
   "source": [
    "np.random.seed(1)\n",
    "base =  np.maximum(2, 1/f)\n",
    "r = int(np.random.uniform(1.0+(0.5*math.log(s,base)),math.log(s,base)))\n",
    "waveform_data_exc = waveform_data.drop(21, 1)\n",
    "print waveform_data_exc.shape[1]\n",
    "waveform_randomly = waveform_data_exc.sample(n=r,axis = 1,random_state=12)\n",
    "print(waveform_randomly.head())"
   ]
  },
  {
   "cell_type": "markdown",
   "metadata": {},
   "source": [
    "__sample_data = 1000 sampled data points of r dimens each__"
   ]
  },
  {
   "cell_type": "code",
   "execution_count": 44,
   "metadata": {},
   "outputs": [
    {
     "name": "stdout",
     "output_type": "stream",
     "text": [
      "        7     9     10    20    13    8 \n",
      "3288 -1.01  1.76  2.71  0.55  4.74  0.76\n",
      "3366  3.21  3.71  3.72 -1.02  0.35  6.49\n",
      "2037  2.43  4.34  2.74  1.31  1.37  3.74\n",
      "2881  4.67  4.34  2.55  0.71  0.99  4.83\n",
      "2999  1.73  1.46  4.08 -0.54  3.10  0.16\n",
      "(1000, 6)\n"
     ]
    }
   ],
   "source": [
    "sample_data = waveform_randomly.sample(n = int(s),random_state=12)\n",
    "print(sample_data.head())\n",
    "print(sample_data.shape)"
   ]
  },
  {
   "cell_type": "markdown",
   "metadata": {},
   "source": [
    "__max and min valus from each of r dimensions__"
   ]
  },
  {
   "cell_type": "code",
   "execution_count": 45,
   "metadata": {
    "collapsed": true
   },
   "outputs": [],
   "source": [
    "col_max = np.max(sample_data,axis = 0)\n",
    "col_min = np.min(sample_data,axis = 0)"
   ]
  },
  {
   "cell_type": "markdown",
   "metadata": {},
   "source": [
    "__Normalize the sample data__"
   ]
  },
  {
   "cell_type": "code",
   "execution_count": 46,
   "metadata": {},
   "outputs": [
    {
     "name": "stdout",
     "output_type": "stream",
     "text": [
      "            7         9         10        20        13        8 \n",
      "3288  0.120507  0.343643  0.350365  0.622921  0.727554  0.257796\n",
      "3366  0.566596  0.567010  0.473236  0.332717  0.274510  0.853430\n",
      "2037  0.484144  0.639175  0.354015  0.763401  0.379773  0.567568\n",
      "2881  0.720930  0.639175  0.330900  0.652495  0.340557  0.680873\n",
      "2999  0.410148  0.309278  0.517032  0.421442  0.558308  0.195426\n"
     ]
    }
   ],
   "source": [
    "normalized_waveform_sample = (sample_data - col_min)/(col_max-col_min)\n",
    "print(normalized_waveform_sample.head())"
   ]
  },
  {
   "cell_type": "markdown",
   "metadata": {},
   "source": [
    "__find the points with all the features cooresponding to the points included in sample_data__"
   ]
  },
  {
   "cell_type": "code",
   "execution_count": 51,
   "metadata": {},
   "outputs": [
    {
     "name": "stdout",
     "output_type": "stream",
     "text": [
      "21\n",
      "Int64Index([3288, 3366, 2037, 2881, 2999, 3300, 3221, 2870,  767,  483,\n",
      "            ...\n",
      "            3481,  853, 1280, 3338, 1403, 1698,  733,  574, 2032,  885],\n",
      "           dtype='int64', length=1000)\n",
      "        0     1     2     3     4     5     6     7     8     9   ...     11  \\\n",
      "3288 -0.06 -0.16 -0.72  0.08 -0.04  2.06  0.87 -1.01  0.76  1.76  ...   4.24   \n",
      "3366  0.18  1.25  2.09  0.72  1.22  2.69  3.77  3.21  6.49  3.71  ...   3.42   \n",
      "2037  0.53 -0.51  0.46  2.64  1.88  2.81  1.55  2.43  3.74  4.34  ...   3.06   \n",
      "2881  0.29  0.82  2.47  2.23  4.88  5.53  6.19  4.67  4.83  4.34  ...   2.42   \n",
      "2999 -1.24  0.64 -0.58  0.04 -0.40 -0.11  2.24  1.73  0.16  1.46  ...   3.78   \n",
      "\n",
      "        12    13    14    15    16    17    18    19    20  \n",
      "3288  4.91  4.74  4.93  3.81  4.34  3.22  2.22 -0.85  0.55  \n",
      "3366  3.62  0.35  1.69  1.23  0.22  0.16 -1.07  0.73 -1.02  \n",
      "2037  3.27  1.37 -1.12  1.97 -0.04 -0.85 -0.14  0.25  1.31  \n",
      "2881  3.06  0.99 -0.71  1.08 -0.79 -0.44 -0.82  2.42  0.71  \n",
      "2999  4.30  3.10  3.77  3.68  2.44  2.35  1.00  0.73 -0.54  \n",
      "\n",
      "[5 rows x 21 columns]\n"
     ]
    }
   ],
   "source": [
    "indexes_sample = sample_data.index\n",
    "waveform_sample_rows = waveform_data_exc.ix[indexes_sample]\n",
    "print waveform_sample_rows.shape[1]\n",
    "print(indexes_sample)\n",
    "print(waveform_sample_rows.head())"
   ]
  },
  {
   "cell_type": "markdown",
   "metadata": {},
   "source": [
    "__set dimension to -1 if that dimension is not included in sample_data__"
   ]
  },
  {
   "cell_type": "code",
   "execution_count": 68,
   "metadata": {},
   "outputs": [
    {
     "name": "stdout",
     "output_type": "stream",
     "text": [
      "Int64Index([7, 9, 10, 20, 13, 8], dtype='int64')\n",
      "      0   1   2   3   4   5   6   7   8   9  ...  11  12  13  14  15  16  17  \\\n",
      "3288  -1  -1  -1  -1  -1  -1  -1  -5   5   9 ...  -1  -1  26  -1  -1  -1  -1   \n",
      "3366  -1  -1  -1  -1  -1  -1  -1  16  36  21 ...  -1  -1   0  -1  -1  -1  -1   \n",
      "2037  -1  -1  -1  -1  -1  -1  -1  14  21  24 ...  -1  -1   7  -1  -1  -1  -1   \n",
      "2881  -1  -1  -1  -1  -1  -1  -1  26  26  24 ...  -1  -1   4  -1  -1  -1  -1   \n",
      "2999  -1  -1  -1  -1  -1  -1  -1   9   0   7 ...  -1  -1  16  -1  -1  -1  -1   \n",
      "\n",
      "      18  19  20  \n",
      "3288  -1  -1   5  \n",
      "3366  -1  -1  -4  \n",
      "2037  -1  -1  10  \n",
      "2881  -1  -1   5  \n",
      "2999  -1  -1  -2  \n",
      "\n",
      "[5 rows x 21 columns]\n",
      "21\n"
     ]
    }
   ],
   "source": [
    "included_cols = waveform_randomly.columns\n",
    "Y_cap = waveform_sample_rows\n",
    "print included_cols\n",
    "for col in Y_cap:\n",
    "    if col not in included_cols:\n",
    "        Y_cap[col] = -1\n",
    "    else:\n",
    "        Y_cap[col] = np.floor((Y_cap[col] + random_vector[col] )/ f)\n",
    "print(Y_cap.head())\n",
    "print Y_cap.shape[1]"
   ]
  },
  {
   "cell_type": "markdown",
   "metadata": {},
   "source": [
    "Convert each point to a tuple and apply hash functions to it"
   ]
  },
  {
   "cell_type": "code",
   "execution_count": 53,
   "metadata": {
    "collapsed": true
   },
   "outputs": [],
   "source": [
    "data_tuples = [tuple(x) for x in Y_cap.to_records(index=False)]\n",
    "for i in data_tuples:\n",
    "    cm_sketch.add(i)"
   ]
  },
  {
   "cell_type": "markdown",
   "metadata": {},
   "source": [
    "__ find min and max values from all dimens from points included in sample and Normalize the whole data __\n"
   ]
  },
  {
   "cell_type": "code",
   "execution_count": 59,
   "metadata": {},
   "outputs": [
    {
     "name": "stdout",
     "output_type": "stream",
     "text": [
      "21\n",
      "21\n"
     ]
    }
   ],
   "source": [
    "print waveform_sample_rows.shape[1]\n",
    "col_max_whole = np.max(waveform_sample_rows,axis = 0)\n",
    "col_min_whole = np.min(waveform_sample_rows,axis = 0)\n",
    "\n",
    "Y_whole = waveform_data_exc\n",
    "norm_whole_data = (Y_whole - col_min_whole) / (col_max_whole - col_min_whole)\n",
    "print Y_whole.shape[1]"
   ]
  },
  {
   "cell_type": "markdown",
   "metadata": {},
   "source": [
    "__set dimension to -1 if that dimension is not included in sample_data__"
   ]
  },
  {
   "cell_type": "code",
   "execution_count": 60,
   "metadata": {},
   "outputs": [
    {
     "name": "stdout",
     "output_type": "stream",
     "text": [
      "Int64Index([7, 9, 10, 20, 13, 8], dtype='int64')\n",
      "   0   1   2   3   4   5   6   7   8   9  ...  11  12  13  14  15  16  17  18  \\\n",
      "0  -1  -1  -1  -1  -1  -1  -1   1   4   2 ...  -1  -1   2  -1  -1  -1  -1  -1   \n",
      "1  -1  -1  -1  -1  -1  -1  -1   5   5   5 ...  -1  -1   2  -1  -1  -1  -1  -1   \n",
      "2  -1  -1  -1  -1  -1  -1  -1   0   0   3 ...  -1  -1   4  -1  -1  -1  -1  -1   \n",
      "3  -1  -1  -1  -1  -1  -1  -1   5   2   5 ...  -1  -1   2  -1  -1  -1  -1  -1   \n",
      "4  -1  -1  -1  -1  -1  -1  -1   0   4   4 ...  -1  -1   4  -1  -1  -1  -1  -1   \n",
      "\n",
      "   19  20  \n",
      "0  -1   0  \n",
      "1  -1  -1  \n",
      "2  -1   1  \n",
      "3  -1  -1  \n",
      "4  -1   2  \n",
      "\n",
      "[5 rows x 21 columns]\n"
     ]
    }
   ],
   "source": [
    "print included_cols\n",
    "for col in Y_whole:\n",
    "    if col not in included_cols:\n",
    "        Y_whole[col] = -1\n",
    "    else:\n",
    "        Y_whole[col] = np.floor(Y_whole[col] + random_vector[col] / f)\n",
    "print(Y_whole.head())"
   ]
  },
  {
   "cell_type": "code",
   "execution_count": 61,
   "metadata": {},
   "outputs": [
    {
     "name": "stdout",
     "output_type": "stream",
     "text": [
      "(3509, 21)\n"
     ]
    }
   ],
   "source": [
    "print(Y_whole.shape)"
   ]
  },
  {
   "cell_type": "markdown",
   "metadata": {},
   "source": [
    "convert each data point to tuple and apply hash functions"
   ]
  },
  {
   "cell_type": "code",
   "execution_count": 62,
   "metadata": {
    "collapsed": true
   },
   "outputs": [],
   "source": [
    "whole_data_tuples = [tuple(x) for x in Y_whole.to_records(index=False)]\n",
    "\n",
    "for i in whole_data_tuples:\n",
    "    cm_sketch.add(i)"
   ]
  },
  {
   "cell_type": "code",
   "execution_count": 67,
   "metadata": {},
   "outputs": [],
   "source": [
    "#print cm_sketch.tables"
   ]
  },
  {
   "cell_type": "code",
   "execution_count": 64,
   "metadata": {},
   "outputs": [
    {
     "name": "stdout",
     "output_type": "stream",
     "text": [
      "<type 'int'>\n"
     ]
    }
   ],
   "source": [
    "print(type(cm_sketch.query(whole_data_tuples[6])))\n",
    "\n",
    "scores = []"
   ]
  },
  {
   "cell_type": "code",
   "execution_count": 70,
   "metadata": {},
   "outputs": [
    {
     "name": "stdout",
     "output_type": "stream",
     "text": [
      "0.0\n"
     ]
    },
    {
     "ename": "TypeError",
     "evalue": "return arrays must be of ArrayType",
     "output_type": "error",
     "traceback": [
      "\u001b[0;31m---------------------------------------------------------------------------\u001b[0m",
      "\u001b[0;31mTypeError\u001b[0m                                 Traceback (most recent call last)",
      "\u001b[0;32m<ipython-input-70-5f0193f4eea7>\u001b[0m in \u001b[0;36m<module>\u001b[0;34m()\u001b[0m\n\u001b[1;32m      4\u001b[0m     \u001b[0;32melse\u001b[0m\u001b[0;34m:\u001b[0m\u001b[0;34m\u001b[0m\u001b[0m\n\u001b[1;32m      5\u001b[0m         \u001b[0;32mprint\u001b[0m\u001b[0;34m(\u001b[0m\u001b[0;34m(\u001b[0m\u001b[0mnp\u001b[0m\u001b[0;34m.\u001b[0m\u001b[0mlog\u001b[0m\u001b[0;34m(\u001b[0m\u001b[0mcm_sketch\u001b[0m\u001b[0;34m.\u001b[0m\u001b[0mquery\u001b[0m\u001b[0;34m(\u001b[0m\u001b[0mi\u001b[0m\u001b[0;34m)\u001b[0m\u001b[0;34m)\u001b[0m\u001b[0;34m)\u001b[0m\u001b[0;34m)\u001b[0m\u001b[0;34m\u001b[0m\u001b[0m\n\u001b[0;32m----> 6\u001b[0;31m         \u001b[0mscores\u001b[0m\u001b[0;34m.\u001b[0m\u001b[0mappend\u001b[0m\u001b[0;34m(\u001b[0m\u001b[0mnp\u001b[0m\u001b[0;34m.\u001b[0m\u001b[0mlog\u001b[0m\u001b[0;34m(\u001b[0m\u001b[0mcm_sketch\u001b[0m\u001b[0;34m.\u001b[0m\u001b[0mquery\u001b[0m\u001b[0;34m(\u001b[0m\u001b[0mi\u001b[0m\u001b[0;34m)\u001b[0m\u001b[0;34m,\u001b[0m\u001b[0;36m2\u001b[0m\u001b[0;34m)\u001b[0m\u001b[0;34m)\u001b[0m\u001b[0;34m\u001b[0m\u001b[0m\n\u001b[0m",
      "\u001b[0;31mTypeError\u001b[0m: return arrays must be of ArrayType"
     ]
    }
   ],
   "source": [
    "for i in whole_data_tuples:\n",
    "    if(i in Y_cap):\n",
    "        scores.append(np.log(cm_sketch.query(i),2)+1)\n",
    "    else:\n",
    "        print((np.log(cm_sketch.query(i))))\n",
    "        #scores.append(np.log(cm_sketch.query(i),2))"
   ]
  },
  {
   "cell_type": "code",
   "execution_count": 66,
   "metadata": {},
   "outputs": [
    {
     "name": "stdout",
     "output_type": "stream",
     "text": [
      "[]\n"
     ]
    }
   ],
   "source": [
    "print(scores)"
   ]
  }
 ],
 "metadata": {
  "kernelspec": {
   "display_name": "Python 2",
   "language": "python",
   "name": "python2"
  },
  "language_info": {
   "codemirror_mode": {
    "name": "ipython",
    "version": 2
   },
   "file_extension": ".py",
   "mimetype": "text/x-python",
   "name": "python",
   "nbconvert_exporter": "python",
   "pygments_lexer": "ipython2",
   "version": "2.7.12"
  }
 },
 "nbformat": 4,
 "nbformat_minor": 2
}
