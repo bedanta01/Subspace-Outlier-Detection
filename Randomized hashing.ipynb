{
 "cells": [
  {
   "cell_type": "markdown",
   "metadata": {},
   "source": [
    "# count min sketch source :\n",
    "https://github.com/rafacarrascosa/countminsketch"
   ]
  },
  {
   "cell_type": "code",
   "execution_count": 3,
   "metadata": {},
   "outputs": [
    {
     "name": "stdout",
     "output_type": "stream",
     "text": [
      "Requirement already satisfied: countminsketch in /usr/local/lib/python3.5/dist-packages\n"
     ]
    },
    {
     "data": {
      "text/plain": [
       "0"
      ]
     },
     "execution_count": 3,
     "metadata": {},
     "output_type": "execute_result"
    }
   ],
   "source": [
    "import pip\n",
    "pip.main(['install', \"countminsketch\"])"
   ]
  },
  {
   "cell_type": "code",
   "execution_count": 8,
   "metadata": {},
   "outputs": [],
   "source": [
    "#from count_min_sketch import CountMinSketch\n",
    "#from countminsketch import CountMinSketch\n",
    "import pandas as pd\n",
    "import os\n",
    "import sys\n",
    "import matplotlib.pyplot as plt\n",
    "import numpy as np\n",
    "import math"
   ]
  },
  {
   "cell_type": "code",
   "execution_count": 9,
   "metadata": {
    "collapsed": true
   },
   "outputs": [],
   "source": [
    "p= 10000\n",
    "w = 4\n",
    "\n",
    "#column_names = ['A','B','C','D','E','F','G','H','I','J']\n",
    "#data_frame = pd.read_fwf(\"F:\\\\IIT HYDERABAD NOTES\\\\Topics in DBMS\\\\yeast.data\",\n",
    "#                         sep = '\\t',names = column_names)\n",
    "#print data_frame.head()"
   ]
  },
  {
   "cell_type": "code",
   "execution_count": 4,
   "metadata": {},
   "outputs": [
    {
     "data": {
      "text/plain": [
       "\"data_frame['A'] = data_frame['A'].astype('category')\\ndata_frame['J'] = data_frame['J'].astype('category')\\ncat_cols = ['A','J']\\n\\ndata_frame[cat_cols] = data_frame[cat_cols].apply(lambda x : x.cat.codes)\\nprint data_frame.head()\\nprint(data_frame.shape)\\n\\n#data_list = data_frame.values.tolist()\\n\""
      ]
     },
     "execution_count": 4,
     "metadata": {},
     "output_type": "execute_result"
    }
   ],
   "source": [
    "\"\"\"data_frame['A'] = data_frame['A'].astype('category')\n",
    "data_frame['J'] = data_frame['J'].astype('category')\n",
    "cat_cols = ['A','J']\n",
    "\n",
    "data_frame[cat_cols] = data_frame[cat_cols].apply(lambda x : x.cat.codes)\n",
    "print data_frame.head()\n",
    "print(data_frame.shape)\n",
    "\n",
    "#data_list = data_frame.values.tolist()\n",
    "\"\"\""
   ]
  },
  {
   "cell_type": "code",
   "execution_count": 10,
   "metadata": {},
   "outputs": [
    {
     "name": "stdout",
     "output_type": "stream",
     "text": [
      "     0     1     2     3     4     5     6     7     8     9  ...    12    13  \\\n",
      "0 -1.23 -1.56 -1.75 -0.28  0.60  2.22  0.85  0.21 -0.20  0.89 ...  2.89  7.75   \n",
      "1 -0.69  2.43  0.61  2.08  2.30  3.25  5.52  4.55  2.97  2.22 ...  1.24  1.89   \n",
      "2 -0.12 -0.94  1.29  2.59  2.42  3.55  4.94  3.25  1.90  2.07 ...  2.50  0.12   \n",
      "3  0.86  0.29  2.19 -0.02  1.13  2.51  2.37  5.45  5.45  4.84 ...  2.58  1.40   \n",
      "4  1.16  0.37  0.40 -0.59  2.66  1.00  2.69  4.06  5.34  3.53 ...  4.30  1.84   \n",
      "\n",
      "     14    15    16    17    18    19    20  21  \n",
      "0  4.59  3.15  5.12  3.32  1.20  0.24 -0.56   2  \n",
      "1  1.88 -1.34  0.83  1.41  1.78  0.60  2.42   1  \n",
      "2  1.41  2.78  0.64  0.62 -0.01 -0.79 -0.12   0  \n",
      "3  1.24  1.41  1.07 -1.43  2.84 -1.18  1.12   1  \n",
      "4  1.73  0.21 -0.18  0.13 -0.21 -0.80 -0.68   1  \n",
      "\n",
      "[5 rows x 22 columns]\n"
     ]
    }
   ],
   "source": [
    "waveform_data = pd.read_csv(\"waveform.data\",header = None)\n",
    "\n",
    "count = 0\n",
    "\n",
    "#for i in range(0,len(waveform_data)):\n",
    "#    waveform_data[i] = tuple(waveform_data[i])\n",
    "    \n",
    "\n",
    "print(waveform_data.head())"
   ]
  },
  {
   "cell_type": "code",
   "execution_count": null,
   "metadata": {
    "collapsed": true
   },
   "outputs": [],
   "source": []
  },
  {
   "cell_type": "code",
   "execution_count": 48,
   "metadata": {
    "collapsed": true
   },
   "outputs": [],
   "source": [
    "a = CountMinSketch(p,w)"
   ]
  },
  {
   "cell_type": "code",
   "execution_count": 6,
   "metadata": {},
   "outputs": [
    {
     "data": {
      "text/plain": [
       "'a[1] = 2\\na[1] += 1\\nfor i in a.get_columns(1):\\n    print i\\n\\nprint(a.query(1))\\n'"
      ]
     },
     "execution_count": 6,
     "metadata": {},
     "output_type": "execute_result"
    }
   ],
   "source": [
    "#print(data_frame.ix[1].values.tolist())\n",
    "#a[1] = data_frame.ix[1].values.tolist()\n",
    "\"\"\"a[1] = 2\n",
    "a[1] += 1\n",
    "for i in a.get_columns(1):\n",
    "    print i\n",
    "\n",
    "print(a.query(1))\n",
    "\"\"\"\n",
    "\n",
    "#a.add(tuple([1,2,3]))\n",
    "#print a[tuple([1,2,3])]\n",
    "#print a[tuple([1,2,3]]\n",
    "#print(a.tables)\n",
    "#p = [4,5,6]\n",
    "#p = np.vectorize(p)\n",
    "#print(p[0])\n",
    "\n",
    "\n"
   ]
  },
  {
   "cell_type": "code",
   "execution_count": 11,
   "metadata": {},
   "outputs": [
    {
     "name": "stdout",
     "output_type": "stream",
     "text": [
      "0.42226999391886616\n"
     ]
    }
   ],
   "source": [
    "seed_np = np.random.seed(1)\n",
    "s = 1000.0                                                      #sample size\n",
    "sqrt_s = np.sqrt(s)\n",
    "\n",
    "f = np.random.uniform(1.0/sqrt_s,1.0 - (1.0/sqrt_s))            #locality parameter\n",
    "\n",
    "print(f)"
   ]
  },
  {
   "cell_type": "code",
   "execution_count": 12,
   "metadata": {},
   "outputs": [
    {
     "name": "stdout",
     "output_type": "stream",
     "text": [
      "[  3.04171419e+00   4.82970534e-04   1.27665974e+00   6.19706091e-01\n",
      "   3.89918179e-01   7.86520983e-01   1.45919926e+00   1.67542999e+00\n",
      "   2.27526139e+00   1.77013265e+00   2.89347634e+00   8.63340503e-01\n",
      "   3.70802645e+00   1.15649588e-01   2.83118311e+00   1.76215296e+00\n",
      "   2.35917950e+00   5.92811917e-01   8.36523146e-01   3.38130404e+00\n",
      "   4.08867810e+00   1.32349626e+00]\n"
     ]
    }
   ],
   "source": [
    "d = waveform_data.shape[1]                                         #dimension of the dataset\n",
    "\n",
    "random_vector = np.random.uniform(0,f,d)*10\n",
    "print(random_vector)"
   ]
  },
  {
   "cell_type": "code",
   "execution_count": 13,
   "metadata": {},
   "outputs": [
    {
     "name": "stdout",
     "output_type": "stream",
     "text": [
      "(1000, 22)\n",
      "2.36815311152\n"
     ]
    },
    {
     "name": "stderr",
     "output_type": "stream",
     "text": [
      "/usr/lib/python3/dist-packages/pandas/core/generic.py:2258: VisibleDeprecationWarning: using a non-integer number instead of an integer will result in an error in the future\n",
      "  locs = rs.choice(axis_length, size=n, replace=replace, p=weights)\n"
     ]
    }
   ],
   "source": [
    "sample_data = waveform_data.sample(n = s)\n",
    "print(sample_data.shape)\n",
    "base = np.maximum(2,1.0/f)\n",
    "print(base)"
   ]
  },
  {
   "cell_type": "code",
   "execution_count": 14,
   "metadata": {},
   "outputs": [
    {
     "name": "stdout",
     "output_type": "stream",
     "text": [
      "     13    14    16    1     20    19\n",
      "0  7.75  4.59  5.12 -1.56 -0.56  0.24\n",
      "1  1.89  1.88  0.83  2.43  2.42  0.60\n",
      "2  0.12  1.41  0.64 -0.94 -0.12 -0.79\n",
      "3  1.40  1.24  1.07  0.29  1.12 -1.18\n",
      "4  1.84  1.73 -0.18  0.37 -0.68 -0.80\n"
     ]
    }
   ],
   "source": [
    "#randomly select 'r' columns from dataset\n",
    "np.random.seed(1)\n",
    "r = int(np.random.uniform(1.0+(0.5*math.log(s,base)),math.log(s,base)))\n",
    "waveform_randomly = waveform_data.sample(n=r,axis = 1)\n",
    "print(waveform_randomly.head())\n"
   ]
  },
  {
   "cell_type": "code",
   "execution_count": 15,
   "metadata": {},
   "outputs": [
    {
     "name": "stdout",
     "output_type": "stream",
     "text": [
      "[[1.06, 0.46, -0.07, 1.51, -0.11, 0.82], [1.85, 5.55, 3.63, -0.47, 0.36, 0.47], [3.76, 7.05, 3.59, -0.12, -1.26, 2.06]]\n"
     ]
    }
   ],
   "source": [
    "#sample 1000 data from randomly_waveform\n",
    "waveform_randomly_train = waveform_randomly.sample(n=1000,axis = 0).values.tolist()\n",
    "print(waveform_randomly_train[0:3])\n",
    "\n",
    "\n",
    "#for i in range(0,len(waveform_data)):\n",
    "#    waveform_randomly[i] = tuple(waveform_data[i])"
   ]
  },
  {
   "cell_type": "code",
   "execution_count": 16,
   "metadata": {},
   "outputs": [
    {
     "name": "stdout",
     "output_type": "stream",
     "text": [
      "[ 7.75  8.72  6.74  3.83  3.1   4.28]\n"
     ]
    }
   ],
   "source": [
    "col_max = np.max(waveform_randomly_train,axis = 0)\n",
    "print(col_max)"
   ]
  },
  {
   "cell_type": "code",
   "execution_count": 17,
   "metadata": {},
   "outputs": [
    {
     "name": "stdout",
     "output_type": "stream",
     "text": [
      "[-2.37 -2.56 -2.71 -2.96 -3.45 -3.25]\n"
     ]
    }
   ],
   "source": [
    "col_min = np.min(waveform_randomly_train, axis = 0)\n",
    "print (col_min)"
   ]
  },
  {
   "cell_type": "code",
   "execution_count": 20,
   "metadata": {},
   "outputs": [
    {
     "name": "stdout",
     "output_type": "stream",
     "text": [
      "[ 0.33893281  0.2677305   0.27936508  0.65832106  0.50992366  0.54050465]\n"
     ]
    }
   ],
   "source": [
    "normalized_waveform = (waveform_randomly_train - col_min)/(col_max -  col_min)\n",
    "print(normalized_waveform[0])"
   ]
  },
  {
   "cell_type": "code",
   "execution_count": 47,
   "metadata": {},
   "outputs": [
    {
     "name": "stdout",
     "output_type": "stream",
     "text": [
      "(1000, 22)\n",
      "[13, 14, 16, 1, 20, 19]\n"
     ]
    }
   ],
   "source": [
    "# new vector Y and set Yij = -1 if that dimen is not included in V (randomly selected r cols)\n",
    "Y = sample_data\n",
    "print(Y.shape)\n",
    "initial_dimens = sample_data.columns.values.tolist()\n",
    "r_dimens = waveform_randomly.columns.values.tolist()\n",
    "print(r_dimens)\n",
    "Y.loc[:, [i for i in initial_dimens if i not in r_dimens]] = -1"
   ]
  }
 ],
 "metadata": {
  "kernelspec": {
   "display_name": "Python 3",
   "language": "python",
   "name": "python3"
  },
  "language_info": {
   "codemirror_mode": {
    "name": "ipython",
    "version": 3
   },
   "file_extension": ".py",
   "mimetype": "text/x-python",
   "name": "python",
   "nbconvert_exporter": "python",
   "pygments_lexer": "ipython3",
   "version": "3.5.2"
  }
 },
 "nbformat": 4,
 "nbformat_minor": 2
}
